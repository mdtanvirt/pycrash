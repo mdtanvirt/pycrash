{
 "metadata": {
  "language_info": {
   "codemirror_mode": {
    "name": "ipython",
    "version": 3
   },
   "file_extension": ".py",
   "mimetype": "text/x-python",
   "name": "python",
   "nbconvert_exporter": "python",
   "pygments_lexer": "ipython3",
   "version": "3.9.2"
  },
  "orig_nbformat": 4,
  "kernelspec": {
   "name": "python3",
   "display_name": "Python 3.9.2 64-bit"
  },
  "interpreter": {
   "hash": "c569cd2e17f62341e0f08a54f9a867c3c0d3a6f67454072d7de41a8b5dff8343"
  }
 },
 "nbformat": 4,
 "nbformat_minor": 2,
 "cells": [
  {
   "source": [
    "## What is 7 to the power of 4?"
   ],
   "cell_type": "markdown",
   "metadata": {}
  },
  {
   "cell_type": "code",
   "execution_count": 2,
   "metadata": {},
   "outputs": [
    {
     "output_type": "execute_result",
     "data": {
      "text/plain": [
       "2401"
      ]
     },
     "metadata": {},
     "execution_count": 2
    }
   ],
   "source": [
    "7**4"
   ]
  },
  {
   "source": [
    "## Split the given string into the list: \"Hi Tanvir. How are you?\""
   ],
   "cell_type": "markdown",
   "metadata": {}
  },
  {
   "cell_type": "code",
   "execution_count": 4,
   "metadata": {},
   "outputs": [],
   "source": [
    "s = \"Hi tanvir. How are you?\""
   ]
  },
  {
   "cell_type": "code",
   "execution_count": 5,
   "metadata": {},
   "outputs": [
    {
     "output_type": "execute_result",
     "data": {
      "text/plain": [
       "['Hi', 'tanvir.', 'How', 'are', 'you?']"
      ]
     },
     "metadata": {},
     "execution_count": 5
    }
   ],
   "source": [
    "s.split()"
   ]
  },
  {
   "source": [
    "## Use .formate() to print the given string: \"The diameter of Earth is 12742 kilometer\""
   ],
   "cell_type": "markdown",
   "metadata": {}
  },
  {
   "cell_type": "code",
   "execution_count": 9,
   "metadata": {},
   "outputs": [],
   "source": [
    "planet = \"Earth\"\n",
    "diameter = 12742"
   ]
  },
  {
   "cell_type": "code",
   "execution_count": 11,
   "metadata": {},
   "outputs": [
    {
     "output_type": "stream",
     "name": "stdout",
     "text": [
      "The diameter of Earth is 12742 km\n"
     ]
    }
   ],
   "source": [
    "print(\"The diameter of {} is {} km\".format(planet, diameter))"
   ]
  },
  {
   "source": [
    "## Given this nested list, use indexing to grab the word \"Hello\""
   ],
   "cell_type": "markdown",
   "metadata": {}
  },
  {
   "cell_type": "code",
   "execution_count": 13,
   "metadata": {},
   "outputs": [],
   "source": [
    "lst = [1,2,[3,4],5,[100,200, ['hello'],30,40],40,90]"
   ]
  },
  {
   "cell_type": "code",
   "execution_count": 20,
   "metadata": {},
   "outputs": [
    {
     "output_type": "execute_result",
     "data": {
      "text/plain": [
       "['hello']"
      ]
     },
     "metadata": {},
     "execution_count": 20
    }
   ],
   "source": [
    "lst[4][2]"
   ]
  },
  {
   "source": [
    "## Given nested dictionary grab the word \"hello\". Be prepare, this will be annoying/tricky"
   ],
   "cell_type": "markdown",
   "metadata": {}
  },
  {
   "cell_type": "code",
   "execution_count": 24,
   "metadata": {},
   "outputs": [],
   "source": [
    "d = {'k1': [1,2,3, {'tricky' : ['hello','man','woman']}, {'tricky' : ['hi','tanvir','tanvir']}]}"
   ]
  },
  {
   "cell_type": "code",
   "execution_count": 27,
   "metadata": {},
   "outputs": [
    {
     "output_type": "execute_result",
     "data": {
      "text/plain": [
       "'hello'"
      ]
     },
     "metadata": {},
     "execution_count": 27
    }
   ],
   "source": [
    "d['k1'][3]['tricky'][0]"
   ]
  },
  {
   "source": [
    "## What is the main deference between tuple and a list?\n",
    "## Ans: Tuple is immutable"
   ],
   "cell_type": "markdown",
   "metadata": {}
  },
  {
   "source": [
    "## Create a function that grabs the email website domain from a string in the form:\n",
    "mdtanvirt@gmail.com\n",
    "## So the example pass the email \"mdtanvirt@gmail.com\" and return the domain name as \"gmail.com\""
   ],
   "cell_type": "markdown",
   "metadata": {}
  },
  {
   "cell_type": "code",
   "execution_count": 35,
   "metadata": {},
   "outputs": [],
   "source": [
    "def getDomain(email):\n",
    "    return email.split('@')[-1]"
   ]
  },
  {
   "cell_type": "code",
   "execution_count": 36,
   "metadata": {},
   "outputs": [
    {
     "output_type": "execute_result",
     "data": {
      "text/plain": [
       "'gmail.com'"
      ]
     },
     "metadata": {},
     "execution_count": 36
    }
   ],
   "source": [
    "getDomain('mdtanvirt@gmail.com')"
   ]
  },
  {
   "source": [
    "### Split that above email from the '@' symbol"
   ],
   "cell_type": "markdown",
   "metadata": {}
  },
  {
   "cell_type": "code",
   "execution_count": 38,
   "metadata": {},
   "outputs": [
    {
     "output_type": "execute_result",
     "data": {
      "text/plain": [
       "['mdtanvirt', 'gmail.com']"
      ]
     },
     "metadata": {},
     "execution_count": 38
    }
   ],
   "source": [
    "'mdtanvirt@gmail.com'.split('@')"
   ]
  },
  {
   "source": [
    "## Create a basic function that return \"True\" if the word is 'Cat'"
   ],
   "cell_type": "markdown",
   "metadata": {}
  },
  {
   "cell_type": "code",
   "execution_count": 62,
   "metadata": {},
   "outputs": [],
   "source": [
    "def isCat(str):\n",
    "    return 'cat' in str.lower().split()"
   ]
  },
  {
   "cell_type": "code",
   "execution_count": 63,
   "metadata": {},
   "outputs": [
    {
     "output_type": "execute_result",
     "data": {
      "text/plain": [
       "True"
      ]
     },
     "metadata": {},
     "execution_count": 63
    }
   ],
   "source": [
    "isCat('There is a cat')"
   ]
  },
  {
   "cell_type": "code",
   "execution_count": 65,
   "metadata": {},
   "outputs": [
    {
     "output_type": "execute_result",
     "data": {
      "text/plain": [
       "True"
      ]
     },
     "metadata": {},
     "execution_count": 65
    }
   ],
   "source": [
    "'s' in 'supper'"
   ]
  },
  {
   "source": [
    "## create a function that counts the number of times the word 'cat' in a string"
   ],
   "cell_type": "markdown",
   "metadata": {}
  },
  {
   "cell_type": "code",
   "execution_count": 92,
   "metadata": {},
   "outputs": [],
   "source": [
    "def countCat(strg):\n",
    "    count = 0\n",
    "    for word in strg.lower().split():\n",
    "        if word == 'cat':\n",
    "            count += 1\n",
    "    return count"
   ]
  },
  {
   "cell_type": "code",
   "execution_count": 93,
   "metadata": {},
   "outputs": [
    {
     "output_type": "execute_result",
     "data": {
      "text/plain": [
       "4"
      ]
     },
     "metadata": {},
     "execution_count": 93
    }
   ],
   "source": [
    "countCat('This cat It is a very bad cat cat cat')"
   ]
  },
  {
   "source": [
    "### Final Problem\n",
    "**You are driving a little too fast, and a police officer stops you. Write a function\n",
    "  to return one of 3 possible results: \"No ticket\", \"Small ticket\", or \"Big Ticket\". \n",
    "  If your speed is 60 or less, the result is \"No Ticket\". If speed is between 61 \n",
    "  and 80 inclusive, the result is \"Small Ticket\". If speed is 81 or more, the result is \"Big    Ticket\". Unless it is your birthday (encoded as a boolean value in the parameters of the function) -- on your birthday, your speed can be 5 higher in all \n",
    "  cases. **"
   ],
   "cell_type": "markdown",
   "metadata": {}
  },
  {
   "cell_type": "code",
   "execution_count": 99,
   "metadata": {},
   "outputs": [],
   "source": [
    "def checkTicket(speed):\n",
    "    if speed <= 60:\n",
    "        print('No Ticket')\n",
    "    elif speed > 60 and speed <=80:\n",
    "        print('Small Ticket')\n",
    "    elif speed >= 81:\n",
    "        print('Big Ticket')\n",
    "    else:\n",
    "        print('Some problem')"
   ]
  },
  {
   "cell_type": "code",
   "execution_count": 101,
   "metadata": {},
   "outputs": [
    {
     "output_type": "stream",
     "name": "stdout",
     "text": [
      "Big Ticket\n"
     ]
    }
   ],
   "source": [
    "checkTicket(81)"
   ]
  },
  {
   "cell_type": "code",
   "execution_count": null,
   "metadata": {},
   "outputs": [],
   "source": []
  }
 ]
}